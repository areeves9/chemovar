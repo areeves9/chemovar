{
 "cells": [
  {
   "cell_type": "code",
   "execution_count": 11,
   "metadata": {},
   "outputs": [
    {
     "data": {
      "text/plain": [
       "'http://www.cannabisreports.com/images/strains/e/full_e73e511babce047e3eb5d895daac518c3cc96811.jpg'"
      ]
     },
     "execution_count": 11,
     "metadata": {},
     "output_type": "execute_result"
    }
   ],
   "source": [
    "import requests\n",
    "\n",
    "headers = {\n",
    "    'X-API-Key': \"08dd8bf42f9ca621002213991f9ef5bf96fdd66a\",\n",
    "}\n",
    "\n",
    "cannabis_reports_url = \"https://www.cannabisreports.com/api/v1.0/strains/search/\"\n",
    "\n",
    "strain_query_url = cannabis_reports_url + \"%s\" % (\"Blue%20Dream\")\n",
    "\n",
    "r = requests.get(strain_query_url, headers)\n",
    "r.text\n",
    "response = r.json()\n",
    "response['data'][0]['image']\n"
   ]
  },
  {
   "cell_type": "code",
   "execution_count": null,
   "metadata": {},
   "outputs": [],
   "source": []
  }
 ],
 "metadata": {
  "kernelspec": {
   "display_name": "Python 3",
   "language": "python",
   "name": "python3"
  },
  "language_info": {
   "codemirror_mode": {
    "name": "ipython",
    "version": 3
   },
   "file_extension": ".py",
   "mimetype": "text/x-python",
   "name": "python",
   "nbconvert_exporter": "python",
   "pygments_lexer": "ipython3",
   "version": "3.6.10"
  }
 },
 "nbformat": 4,
 "nbformat_minor": 2
}
