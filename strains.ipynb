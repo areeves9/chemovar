{
 "cells": [
  {
   "cell_type": "code",
   "execution_count": 12,
   "metadata": {},
   "outputs": [
    {
     "name": "stdout",
     "output_type": "stream",
     "text": [
      "{'Afghanistan': 'AF', 'Colombia': 'CO', 'India': 'IN', 'Mexico': 'MX', 'Thailand': 'TH'}\n"
     ]
    },
    {
     "data": {
      "text/plain": [
       "{'name': 'Blue Dream',\n",
       " 'ucpc': '9XVU7PTG2P000000000000000',\n",
       " 'link': 'http://www.cannabisreports.com/api/v1.0/strains/9XVU7PTG2P000000000000000',\n",
       " 'qr': 'http://www.cannabisreports.com/strain-reports/unknown-breeder/blue-dream/qr-code.svg',\n",
       " 'url': 'http://www.cannabisreports.com/strain-reports/unknown-breeder/blue-dream',\n",
       " 'image': 'http://www.cannabisreports.com/images/strains/e/full_e73e511babce047e3eb5d895daac518c3cc96811.jpg',\n",
       " 'seedCompany': {'name': 'Unknown Breeder',\n",
       "  'ucpc': '9XVU700000000000000000000',\n",
       "  'link': 'http://www.cannabisreports.com/api/v1.0/seed-companies/9XVU700000000000000000000'},\n",
       " 'genetics': {'names': 'Blueberry x Haze',\n",
       "  'ucpc': 'W74AFGH22Z000000000000000 x 9XVU7WJQCD000000000000000',\n",
       "  'link': 'http://www.cannabisreports.com/api/v1.0/strains/9XVU7PTG2P000000000000000/genetics'},\n",
       " 'lineage': {'Afghanistan': 'AF',\n",
       "  'Colombia': 'CO',\n",
       "  'India': 'IN',\n",
       "  'Mexico': 'MX',\n",
       "  'Thailand': 'TH'},\n",
       " 'children': {'count': 132,\n",
       "  'link': 'http://www.cannabisreports.com/api/v1.0/strains/9XVU7PTG2P000000000000000/children'},\n",
       " 'reviews': {'count': 22,\n",
       "  'link': 'http://www.cannabisreports.com/api/v1.0/strains/9XVU7PTG2P000000000000000/reviews'},\n",
       " 'createdAt': {'datetime': '2008-08-15 19:20:00', 'timezone': 'UTC'},\n",
       " 'updatedAt': {'datetime': '2015-03-12 21:42:00', 'timezone': 'UTC'}}"
      ]
     },
     "execution_count": 12,
     "metadata": {},
     "output_type": "execute_result"
    }
   ],
   "source": [
    "import requests\n",
    "\n",
    "headers = {\n",
    "    'X-API-Key': \"08dd8bf42f9ca621002213991f9ef5bf96fdd66a\",\n",
    "}\n",
    "\n",
    "cannabis_reports_url = \"https://www.cannabisreports.com/api/v1.0/strains/search/\"\n",
    "\n",
    "strain_query_url = cannabis_reports_url + \"%s\" % (\"Blue%20Dream\")\n",
    "\n",
    "r = requests.get(strain_query_url, headers)\n",
    "r.text\n",
    "response = r.json()\n",
    "genetics = response['data'][0]['genetics']['names']\n",
    "lineage = response['data'][0]['lineage']\n",
    "print(lineage)\n",
    "\n",
    "response['data'][0]\n"
   ]
  },
  {
   "cell_type": "code",
   "execution_count": null,
   "metadata": {},
   "outputs": [],
   "source": []
  }
 ],
 "metadata": {
  "kernelspec": {
   "display_name": "Python 3",
   "language": "python",
   "name": "python3"
  },
  "language_info": {
   "codemirror_mode": {
    "name": "ipython",
    "version": 3
   },
   "file_extension": ".py",
   "mimetype": "text/x-python",
   "name": "python",
   "nbconvert_exporter": "python",
   "pygments_lexer": "ipython3",
   "version": "3.6.10"
  }
 },
 "nbformat": 4,
 "nbformat_minor": 2
}
