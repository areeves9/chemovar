{
 "cells": [
  {
   "cell_type": "code",
   "execution_count": null,
   "metadata": {},
   "outputs": [],
   "source": []
  },
  {
   "cell_type": "code",
   "execution_count": 4,
   "metadata": {},
   "outputs": [
    {
     "name": "stdout",
     "output_type": "stream",
     "text": [
      "[('Afghanistan', 'AF'), ('Colombia', 'CO'), ('India', 'IN'), ('Mexico', 'MX'), ('Thailand', 'TH')]\n"
     ]
    }
   ],
   "source": [
    "import requests\n",
    "\n",
    "headers = {\n",
    "    'X-API-Key': \"08dd8bf42f9ca621002213991f9ef5bf96fdd66a\",\n",
    "}\n",
    "\n",
    "cannabis_reports_url = \"https://www.cannabisreports.com/api/v1.0/strains/search/\"\n",
    "\n",
    "strain_query_url = cannabis_reports_url + \"%s\" % (\"Blue%20Dream\")\n",
    "\n",
    "r = requests.get(strain_query_url, headers)\n",
    "r.text\n",
    "response = r.json()\n",
    "genetics = response['data'][0]['genetics']['names']\n",
    "lineage = response['data'][0]['lineage']\n",
    "\n",
    "l1 = []\n",
    "\n",
    "for key in lineage:\n",
    "    tup = (key, lineage[key])\n",
    "    l1.append(tup)\n",
    "    \n",
    "print(l1)\n"
   ]
  },
  {
   "cell_type": "code",
   "execution_count": null,
   "metadata": {},
   "outputs": [],
   "source": []
  }
 ],
 "metadata": {
  "kernelspec": {
   "display_name": "Python 3",
   "language": "python",
   "name": "python3"
  },
  "language_info": {
   "codemirror_mode": {
    "name": "ipython",
    "version": 3
   },
   "file_extension": ".py",
   "mimetype": "text/x-python",
   "name": "python",
   "nbconvert_exporter": "python",
   "pygments_lexer": "ipython3",
   "version": "3.6.10"
  }
 },
 "nbformat": 4,
 "nbformat_minor": 2
}
